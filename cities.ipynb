{
 "cells": [
  {
   "cell_type": "code",
   "execution_count": 1,
   "id": "dd84e56d",
   "metadata": {},
   "outputs": [],
   "source": [
    "import pandas as pd \n",
    "import numpy as np \n",
    "import matplotlib.pyplot as plt \n",
    "import seaborn as sns "
   ]
  },
  {
   "cell_type": "code",
   "execution_count": 2,
   "id": "725dbe62",
   "metadata": {},
   "outputs": [],
   "source": [
    "ud=pd.read_json('ultimate_data_challenge.json')"
   ]
  },
  {
   "cell_type": "code",
   "execution_count": 3,
   "id": "f6d0e7b7",
   "metadata": {},
   "outputs": [
    {
     "data": {
      "text/html": [
       "<div>\n",
       "<style scoped>\n",
       "    .dataframe tbody tr th:only-of-type {\n",
       "        vertical-align: middle;\n",
       "    }\n",
       "\n",
       "    .dataframe tbody tr th {\n",
       "        vertical-align: top;\n",
       "    }\n",
       "\n",
       "    .dataframe thead th {\n",
       "        text-align: right;\n",
       "    }\n",
       "</style>\n",
       "<table border=\"1\" class=\"dataframe\">\n",
       "  <thead>\n",
       "    <tr style=\"text-align: right;\">\n",
       "      <th></th>\n",
       "      <th>city</th>\n",
       "      <th>trips_in_first_30_days</th>\n",
       "      <th>signup_date</th>\n",
       "      <th>avg_rating_of_driver</th>\n",
       "      <th>avg_surge</th>\n",
       "      <th>last_trip_date</th>\n",
       "      <th>phone</th>\n",
       "      <th>surge_pct</th>\n",
       "      <th>ultimate_black_user</th>\n",
       "      <th>weekday_pct</th>\n",
       "      <th>avg_dist</th>\n",
       "      <th>avg_rating_by_driver</th>\n",
       "    </tr>\n",
       "  </thead>\n",
       "  <tbody>\n",
       "    <tr>\n",
       "      <th>0</th>\n",
       "      <td>King's Landing</td>\n",
       "      <td>4</td>\n",
       "      <td>2014-01-25</td>\n",
       "      <td>4.7</td>\n",
       "      <td>1.10</td>\n",
       "      <td>2014-06-17</td>\n",
       "      <td>iPhone</td>\n",
       "      <td>15.4</td>\n",
       "      <td>True</td>\n",
       "      <td>46.2</td>\n",
       "      <td>3.67</td>\n",
       "      <td>5.0</td>\n",
       "    </tr>\n",
       "    <tr>\n",
       "      <th>1</th>\n",
       "      <td>Astapor</td>\n",
       "      <td>0</td>\n",
       "      <td>2014-01-29</td>\n",
       "      <td>5.0</td>\n",
       "      <td>1.00</td>\n",
       "      <td>2014-05-05</td>\n",
       "      <td>Android</td>\n",
       "      <td>0.0</td>\n",
       "      <td>False</td>\n",
       "      <td>50.0</td>\n",
       "      <td>8.26</td>\n",
       "      <td>5.0</td>\n",
       "    </tr>\n",
       "    <tr>\n",
       "      <th>2</th>\n",
       "      <td>Astapor</td>\n",
       "      <td>3</td>\n",
       "      <td>2014-01-06</td>\n",
       "      <td>4.3</td>\n",
       "      <td>1.00</td>\n",
       "      <td>2014-01-07</td>\n",
       "      <td>iPhone</td>\n",
       "      <td>0.0</td>\n",
       "      <td>False</td>\n",
       "      <td>100.0</td>\n",
       "      <td>0.77</td>\n",
       "      <td>5.0</td>\n",
       "    </tr>\n",
       "    <tr>\n",
       "      <th>3</th>\n",
       "      <td>King's Landing</td>\n",
       "      <td>9</td>\n",
       "      <td>2014-01-10</td>\n",
       "      <td>4.6</td>\n",
       "      <td>1.14</td>\n",
       "      <td>2014-06-29</td>\n",
       "      <td>iPhone</td>\n",
       "      <td>20.0</td>\n",
       "      <td>True</td>\n",
       "      <td>80.0</td>\n",
       "      <td>2.36</td>\n",
       "      <td>4.9</td>\n",
       "    </tr>\n",
       "    <tr>\n",
       "      <th>4</th>\n",
       "      <td>Winterfell</td>\n",
       "      <td>14</td>\n",
       "      <td>2014-01-27</td>\n",
       "      <td>4.4</td>\n",
       "      <td>1.19</td>\n",
       "      <td>2014-03-15</td>\n",
       "      <td>Android</td>\n",
       "      <td>11.8</td>\n",
       "      <td>False</td>\n",
       "      <td>82.4</td>\n",
       "      <td>3.13</td>\n",
       "      <td>4.9</td>\n",
       "    </tr>\n",
       "  </tbody>\n",
       "</table>\n",
       "</div>"
      ],
      "text/plain": [
       "             city  trips_in_first_30_days signup_date  avg_rating_of_driver  \\\n",
       "0  King's Landing                       4  2014-01-25                   4.7   \n",
       "1         Astapor                       0  2014-01-29                   5.0   \n",
       "2         Astapor                       3  2014-01-06                   4.3   \n",
       "3  King's Landing                       9  2014-01-10                   4.6   \n",
       "4      Winterfell                      14  2014-01-27                   4.4   \n",
       "\n",
       "   avg_surge last_trip_date    phone  surge_pct  ultimate_black_user  \\\n",
       "0       1.10     2014-06-17   iPhone       15.4                 True   \n",
       "1       1.00     2014-05-05  Android        0.0                False   \n",
       "2       1.00     2014-01-07   iPhone        0.0                False   \n",
       "3       1.14     2014-06-29   iPhone       20.0                 True   \n",
       "4       1.19     2014-03-15  Android       11.8                False   \n",
       "\n",
       "   weekday_pct  avg_dist  avg_rating_by_driver  \n",
       "0         46.2      3.67                   5.0  \n",
       "1         50.0      8.26                   5.0  \n",
       "2        100.0      0.77                   5.0  \n",
       "3         80.0      2.36                   4.9  \n",
       "4         82.4      3.13                   4.9  "
      ]
     },
     "execution_count": 3,
     "metadata": {},
     "output_type": "execute_result"
    }
   ],
   "source": [
    "ud.head()"
   ]
  },
  {
   "cell_type": "code",
   "execution_count": 5,
   "id": "2dfc9698",
   "metadata": {
    "scrolled": true
   },
   "outputs": [
    {
     "name": "stdout",
     "output_type": "stream",
     "text": [
      "<class 'pandas.core.frame.DataFrame'>\n",
      "RangeIndex: 50000 entries, 0 to 49999\n",
      "Data columns (total 12 columns):\n",
      " #   Column                  Non-Null Count  Dtype  \n",
      "---  ------                  --------------  -----  \n",
      " 0   city                    50000 non-null  object \n",
      " 1   trips_in_first_30_days  50000 non-null  int64  \n",
      " 2   signup_date             50000 non-null  object \n",
      " 3   avg_rating_of_driver    41878 non-null  float64\n",
      " 4   avg_surge               50000 non-null  float64\n",
      " 5   last_trip_date          50000 non-null  object \n",
      " 6   phone                   49604 non-null  object \n",
      " 7   surge_pct               50000 non-null  float64\n",
      " 8   ultimate_black_user     50000 non-null  bool   \n",
      " 9   weekday_pct             50000 non-null  float64\n",
      " 10  avg_dist                50000 non-null  float64\n",
      " 11  avg_rating_by_driver    49799 non-null  float64\n",
      "dtypes: bool(1), float64(6), int64(1), object(4)\n",
      "memory usage: 4.2+ MB\n"
     ]
    }
   ],
   "source": [
    "ud.info()"
   ]
  },
  {
   "cell_type": "code",
   "execution_count": 4,
   "id": "3ffb6d81",
   "metadata": {},
   "outputs": [
    {
     "data": {
      "text/plain": [
       "array([\"King's Landing\", 'Astapor', 'Winterfell'], dtype=object)"
      ]
     },
     "execution_count": 4,
     "metadata": {},
     "output_type": "execute_result"
    }
   ],
   "source": [
    "ud.city.unique()"
   ]
  },
  {
   "cell_type": "code",
   "execution_count": 5,
   "id": "b0749d6b",
   "metadata": {
    "scrolled": true
   },
   "outputs": [],
   "source": [
    "ud['city']=ud.city.str.replace(\"King's Landing\",'Gotham')\n",
    "ud.city=ud.city.str.replace('Winterfell','Metropolis')"
   ]
  },
  {
   "cell_type": "code",
   "execution_count": 6,
   "id": "2bbca0ee",
   "metadata": {},
   "outputs": [],
   "source": [
    "ud=ud.set_index('city')\n",
    "ud1=ud.transpose()\n",
    "ud1=ud1.drop('Astapor',axis=1)"
   ]
  },
  {
   "cell_type": "code",
   "execution_count": 7,
   "id": "1cf78a5c",
   "metadata": {},
   "outputs": [
    {
     "data": {
      "text/html": [
       "<div>\n",
       "<style scoped>\n",
       "    .dataframe tbody tr th:only-of-type {\n",
       "        vertical-align: middle;\n",
       "    }\n",
       "\n",
       "    .dataframe tbody tr th {\n",
       "        vertical-align: top;\n",
       "    }\n",
       "\n",
       "    .dataframe thead th {\n",
       "        text-align: right;\n",
       "    }\n",
       "</style>\n",
       "<table border=\"1\" class=\"dataframe\">\n",
       "  <thead>\n",
       "    <tr style=\"text-align: right;\">\n",
       "      <th></th>\n",
       "      <th>city</th>\n",
       "      <th>trips_in_first_30_days</th>\n",
       "      <th>signup_date</th>\n",
       "      <th>avg_rating_of_driver</th>\n",
       "      <th>avg_surge</th>\n",
       "      <th>last_trip_date</th>\n",
       "      <th>phone</th>\n",
       "      <th>surge_pct</th>\n",
       "      <th>ultimate_black_user</th>\n",
       "      <th>weekday_pct</th>\n",
       "      <th>avg_dist</th>\n",
       "      <th>avg_rating_by_driver</th>\n",
       "    </tr>\n",
       "  </thead>\n",
       "  <tbody>\n",
       "    <tr>\n",
       "      <th>0</th>\n",
       "      <td>Gotham</td>\n",
       "      <td>4</td>\n",
       "      <td>2014-01-25</td>\n",
       "      <td>4.7</td>\n",
       "      <td>1.1</td>\n",
       "      <td>2014-06-17</td>\n",
       "      <td>iPhone</td>\n",
       "      <td>15.4</td>\n",
       "      <td>True</td>\n",
       "      <td>46.2</td>\n",
       "      <td>3.67</td>\n",
       "      <td>5.0</td>\n",
       "    </tr>\n",
       "    <tr>\n",
       "      <th>1</th>\n",
       "      <td>Gotham</td>\n",
       "      <td>9</td>\n",
       "      <td>2014-01-10</td>\n",
       "      <td>4.6</td>\n",
       "      <td>1.14</td>\n",
       "      <td>2014-06-29</td>\n",
       "      <td>iPhone</td>\n",
       "      <td>20.0</td>\n",
       "      <td>True</td>\n",
       "      <td>80.0</td>\n",
       "      <td>2.36</td>\n",
       "      <td>4.9</td>\n",
       "    </tr>\n",
       "    <tr>\n",
       "      <th>2</th>\n",
       "      <td>Metropolis</td>\n",
       "      <td>14</td>\n",
       "      <td>2014-01-27</td>\n",
       "      <td>4.4</td>\n",
       "      <td>1.19</td>\n",
       "      <td>2014-03-15</td>\n",
       "      <td>Android</td>\n",
       "      <td>11.8</td>\n",
       "      <td>False</td>\n",
       "      <td>82.4</td>\n",
       "      <td>3.13</td>\n",
       "      <td>4.9</td>\n",
       "    </tr>\n",
       "    <tr>\n",
       "      <th>3</th>\n",
       "      <td>Metropolis</td>\n",
       "      <td>2</td>\n",
       "      <td>2014-01-09</td>\n",
       "      <td>3.5</td>\n",
       "      <td>1.0</td>\n",
       "      <td>2014-06-06</td>\n",
       "      <td>iPhone</td>\n",
       "      <td>0.0</td>\n",
       "      <td>True</td>\n",
       "      <td>100.0</td>\n",
       "      <td>10.56</td>\n",
       "      <td>5.0</td>\n",
       "    </tr>\n",
       "    <tr>\n",
       "      <th>4</th>\n",
       "      <td>Metropolis</td>\n",
       "      <td>2</td>\n",
       "      <td>2014-01-28</td>\n",
       "      <td>5.0</td>\n",
       "      <td>1.0</td>\n",
       "      <td>2014-01-29</td>\n",
       "      <td>iPhone</td>\n",
       "      <td>0.0</td>\n",
       "      <td>False</td>\n",
       "      <td>100.0</td>\n",
       "      <td>2.04</td>\n",
       "      <td>5.0</td>\n",
       "    </tr>\n",
       "  </tbody>\n",
       "</table>\n",
       "</div>"
      ],
      "text/plain": [
       "         city trips_in_first_30_days signup_date avg_rating_of_driver  \\\n",
       "0      Gotham                      4  2014-01-25                  4.7   \n",
       "1      Gotham                      9  2014-01-10                  4.6   \n",
       "2  Metropolis                     14  2014-01-27                  4.4   \n",
       "3  Metropolis                      2  2014-01-09                  3.5   \n",
       "4  Metropolis                      2  2014-01-28                  5.0   \n",
       "\n",
       "  avg_surge last_trip_date    phone surge_pct ultimate_black_user weekday_pct  \\\n",
       "0       1.1     2014-06-17   iPhone      15.4                True        46.2   \n",
       "1      1.14     2014-06-29   iPhone      20.0                True        80.0   \n",
       "2      1.19     2014-03-15  Android      11.8               False        82.4   \n",
       "3       1.0     2014-06-06   iPhone       0.0                True       100.0   \n",
       "4       1.0     2014-01-29   iPhone       0.0               False       100.0   \n",
       "\n",
       "  avg_dist avg_rating_by_driver  \n",
       "0     3.67                  5.0  \n",
       "1     2.36                  4.9  \n",
       "2     3.13                  4.9  \n",
       "3    10.56                  5.0  \n",
       "4     2.04                  5.0  "
      ]
     },
     "execution_count": 7,
     "metadata": {},
     "output_type": "execute_result"
    }
   ],
   "source": [
    "ud1=ud1.transpose().reset_index()\n",
    "ud1.head()"
   ]
  },
  {
   "cell_type": "code",
   "execution_count": 50,
   "id": "0efa51ec",
   "metadata": {},
   "outputs": [],
   "source": [
    "ud1.signup_date=pd.to_datetime(ud1.signup_date)"
   ]
  },
  {
   "cell_type": "code",
   "execution_count": 45,
   "id": "1b66ce0d",
   "metadata": {},
   "outputs": [
    {
     "data": {
      "text/plain": [
       "Metropolis    23336\n",
       "Gotham        10130\n",
       "Name: city, dtype: int64"
      ]
     },
     "execution_count": 45,
     "metadata": {},
     "output_type": "execute_result"
    }
   ],
   "source": [
    "ud1.city.value_counts()"
   ]
  },
  {
   "cell_type": "code",
   "execution_count": 46,
   "id": "208c450f",
   "metadata": {},
   "outputs": [
    {
     "data": {
      "text/plain": [
       "False    21089\n",
       "True     12377\n",
       "Name: ultimate_black_user, dtype: int64"
      ]
     },
     "execution_count": 46,
     "metadata": {},
     "output_type": "execute_result"
    }
   ],
   "source": [
    "ud1.ultimate_black_user.value_counts()"
   ]
  },
  {
   "cell_type": "code",
   "execution_count": 47,
   "id": "11c7d5b2",
   "metadata": {},
   "outputs": [],
   "source": [
    "black=ud1[ud1.ultimate_black_user==True]"
   ]
  },
  {
   "cell_type": "code",
   "execution_count": 48,
   "id": "228b57a3",
   "metadata": {},
   "outputs": [
    {
     "data": {
      "text/plain": [
       "Text(0.5, 1.0, 'ultimate black users phone type')"
      ]
     },
     "execution_count": 48,
     "metadata": {},
     "output_type": "execute_result"
    },
    {
     "data": {
      "image/png": "[encoded data removed]",
      "text/plain": [
       "<Figure size 432x288 with 1 Axes>"
      ]
     },
     "metadata": {
      "needs_background": "light"
     },
     "output_type": "display_data"
    }
   ],
   "source": [
    "black.phone.hist(bins=3)\n",
    "plt.title('ultimate black users phone type')"
   ]
  },
  {
   "cell_type": "code",
   "execution_count": 49,
   "id": "b21bfe6a",
   "metadata": {},
   "outputs": [
    {
     "data": {
      "text/plain": [
       "6.400866930597106"
      ]
     },
     "execution_count": 49,
     "metadata": {},
     "output_type": "execute_result"
    }
   ],
   "source": [
    "black.avg_dist.mean()"
   ]
  },
  {
   "cell_type": "code",
   "execution_count": 51,
   "id": "693ff922",
   "metadata": {},
   "outputs": [],
   "source": [
    "non_black=ud1[ud1.ultimate_black_user==False]"
   ]
  },
  {
   "cell_type": "code",
   "execution_count": 52,
   "id": "125915b5",
   "metadata": {},
   "outputs": [
    {
     "data": {
      "text/plain": [
       "5.7315301816112685"
      ]
     },
     "execution_count": 52,
     "metadata": {},
     "output_type": "execute_result"
    }
   ],
   "source": [
    "non_black.avg_dist.mean()"
   ]
  },
  {
   "cell_type": "code",
   "execution_count": 53,
   "id": "ddfca576",
   "metadata": {},
   "outputs": [
    {
     "data": {
      "text/plain": [
       "<AxesSubplot:>"
      ]
     },
     "execution_count": 53,
     "metadata": {},
     "output_type": "execute_result"
    },
    {
     "data": {
      "image/png": "[encoded data removed]",
      "text/plain": [
       "<Figure size 432x288 with 1 Axes>"
      ]
     },
     "metadata": {
      "needs_background": "light"
     },
     "output_type": "display_data"
    }
   ],
   "source": [
    "non_black.phone.hist(bins=3)"
   ]
  },
  {
   "cell_type": "code",
   "execution_count": 54,
   "id": "54f5d8c7",
   "metadata": {},
   "outputs": [
    {
     "data": {
      "text/plain": [
       "4.776066715245817"
      ]
     },
     "execution_count": 54,
     "metadata": {},
     "output_type": "execute_result"
    }
   ],
   "source": [
    "black.avg_rating_by_driver.mean()"
   ]
  },
  {
   "cell_type": "code",
   "execution_count": 55,
   "id": "95517e78",
   "metadata": {},
   "outputs": [
    {
     "data": {
      "text/plain": [
       "4.763131794773982"
      ]
     },
     "execution_count": 55,
     "metadata": {},
     "output_type": "execute_result"
    }
   ],
   "source": [
    "non_black.avg_rating_by_driver.mean()"
   ]
  },
  {
   "cell_type": "code",
   "execution_count": 56,
   "id": "ce8adb70",
   "metadata": {},
   "outputs": [
    {
     "data": {
      "text/plain": [
       "1.0521782338208066"
      ]
     },
     "execution_count": 56,
     "metadata": {},
     "output_type": "execute_result"
    }
   ],
   "source": [
    "black.avg_surge.mean()"
   ]
  },
  {
   "cell_type": "code",
   "execution_count": 58,
   "id": "e0cf0e99",
   "metadata": {},
   "outputs": [
    {
     "data": {
      "text/plain": [
       "1.0788007966238364"
      ]
     },
     "execution_count": 58,
     "metadata": {},
     "output_type": "execute_result"
    }
   ],
   "source": [
    "non_black.avg_surge.mean()"
   ]
  },
  {
   "cell_type": "code",
   "execution_count": 59,
   "id": "807a4704",
   "metadata": {},
   "outputs": [
    {
     "data": {
      "text/plain": [
       "<AxesSubplot:>"
      ]
     },
     "execution_count": 59,
     "metadata": {},
     "output_type": "execute_result"
    },
    {
     "data": {
      "image/png": "[encoded data removed]",
      "text/plain": [
       "<Figure size 432x288 with 1 Axes>"
      ]
     },
     "metadata": {
      "needs_background": "light"
     },
     "output_type": "display_data"
    }
   ],
   "source": [
    "black.city.hist()"
   ]
  },
  {
   "cell_type": "code",
   "execution_count": 82,
   "id": "cbc55e5e",
   "metadata": {},
   "outputs": [
    {
     "data": {
      "text/plain": [
       "Metropolis    8171\n",
       "Gotham        4206\n",
       "Name: city, dtype: int64"
      ]
     },
     "execution_count": 82,
     "metadata": {},
     "output_type": "execute_result"
    }
   ],
   "source": [
    "black.city.value_counts()"
   ]
  },
  {
   "cell_type": "code",
   "execution_count": 60,
   "id": "4505aa0c",
   "metadata": {},
   "outputs": [
    {
     "data": {
      "text/plain": [
       "<AxesSubplot:>"
      ]
     },
     "execution_count": 60,
     "metadata": {},
     "output_type": "execute_result"
    },
    {
     "data": {
      "image/png": "[encoded data removed]",
      "text/plain": [
       "<Figure size 432x288 with 1 Axes>"
      ]
     },
     "metadata": {
      "needs_background": "light"
     },
     "output_type": "display_data"
    }
   ],
   "source": [
    "non_black.city.hist()"
   ]
  },
  {
   "cell_type": "code",
   "execution_count": 86,
   "id": "1aa309e2",
   "metadata": {},
   "outputs": [
    {
     "data": {
      "text/plain": [
       "Metropolis    15165\n",
       "Gotham         5924\n",
       "Name: city, dtype: int64"
      ]
     },
     "execution_count": 86,
     "metadata": {},
     "output_type": "execute_result"
    }
   ],
   "source": [
    "non_black.city.value_counts()"
   ]
  },
  {
   "cell_type": "code",
   "execution_count": 20,
   "id": "1a448f24",
   "metadata": {},
   "outputs": [
    {
     "data": {
      "text/plain": [
       "Index(['city', 'trips_in_first_30_days', 'signup_date', 'avg_rating_of_driver',\n",
       "       'avg_surge', 'last_trip_date', 'phone', 'surge_pct',\n",
       "       'ultimate_black_user', 'weekday_pct', 'avg_dist',\n",
       "       'avg_rating_by_driver'],\n",
       "      dtype='object')"
      ]
     },
     "execution_count": 20,
     "metadata": {},
     "output_type": "execute_result"
    }
   ],
   "source": [
    "Gotham=ud1[ud1.city=='Gotham']\n",
    "Gotham.columns"
   ]
  },
  {
   "cell_type": "code",
   "execution_count": 27,
   "id": "6f455fbd",
   "metadata": {},
   "outputs": [
    {
     "data": {
      "text/plain": [
       "1.0707068114511413"
      ]
     },
     "execution_count": 27,
     "metadata": {},
     "output_type": "execute_result"
    }
   ],
   "source": [
    "Gotham.avg_surge.mean()"
   ]
  },
  {
   "cell_type": "code",
   "execution_count": 28,
   "id": "84381a0e",
   "metadata": {},
   "outputs": [
    {
     "data": {
      "text/plain": [
       "1.0"
      ]
     },
     "execution_count": 28,
     "metadata": {},
     "output_type": "execute_result"
    }
   ],
   "source": [
    "Gotham.avg_surge.median()"
   ]
  },
  {
   "cell_type": "code",
   "execution_count": 31,
   "id": "20cf2453",
   "metadata": {},
   "outputs": [
    {
     "data": {
      "text/plain": [
       "<AxesSubplot:>"
      ]
     },
     "execution_count": 31,
     "metadata": {},
     "output_type": "execute_result"
    },
    {
     "data": {
      "image/png": "[encoded data removed]",
      "text/plain": [
       "<Figure size 432x288 with 1 Axes>"
      ]
     },
     "metadata": {
      "needs_background": "light"
     },
     "output_type": "display_data"
    }
   ],
   "source": [
    "trips0=Gotham.trips_in_first_30_days<1\n",
    "Gotham[trips0].surge_pct.sort_values().hist()"
   ]
  },
  {
   "cell_type": "code",
   "execution_count": 22,
   "id": "bbf77a1a",
   "metadata": {},
   "outputs": [
    {
     "data": {
      "text/plain": [
       "<AxesSubplot:>"
      ]
     },
     "execution_count": 22,
     "metadata": {},
     "output_type": "execute_result"
    },
    {
     "data": {
      "image/png": "[encoded data removed]",
      "text/plain": [
       "<Figure size 432x288 with 1 Axes>"
      ]
     },
     "metadata": {
      "needs_background": "light"
     },
     "output_type": "display_data"
    }
   ],
   "source": [
    "trips1=Gotham.trips_in_first_30_days>10\n",
    "Gotham[trips1].surge_pct.sort_values().hist()"
   ]
  },
  {
   "cell_type": "code",
   "execution_count": 32,
   "id": "1be847f2",
   "metadata": {},
   "outputs": [
    {
     "data": {
      "text/plain": [
       "False    6598\n",
       "True     3532\n",
       "Name: trips_in_first_30_days, dtype: int64"
      ]
     },
     "execution_count": 32,
     "metadata": {},
     "output_type": "execute_result"
    }
   ],
   "source": [
    "trips0.value_counts()"
   ]
  },
  {
   "cell_type": "code",
   "execution_count": 80,
   "id": "0452693c",
   "metadata": {},
   "outputs": [
    {
     "data": {
      "text/plain": [
       "True     287\n",
       "False    163\n",
       "Name: ultimate_black_user, dtype: int64"
      ]
     },
     "execution_count": 80,
     "metadata": {},
     "output_type": "execute_result"
    }
   ],
   "source": [
    "Gotham[trips1].ultimate_black_user.value_counts()"
   ]
  },
  {
   "cell_type": "code",
   "execution_count": 81,
   "id": "b2bac2c2",
   "metadata": {},
   "outputs": [
    {
     "data": {
      "text/plain": [
       "False    5729\n",
       "True     3871\n",
       "Name: ultimate_black_user, dtype: int64"
      ]
     },
     "execution_count": 81,
     "metadata": {},
     "output_type": "execute_result"
    }
   ],
   "source": [
    "Gotham[trips0].ultimate_black_user.value_counts()"
   ]
  },
  {
   "cell_type": "markdown",
   "id": "72e524ce",
   "metadata": {},
   "source": [
    "black users had taken 10 more rides in the first 30 days 0.76 times more than non black riders in Gotham. \n",
    "in Gotham black users are 4206 and non black users 5924 \n",
    "450 users taken less than 10 trips in their first 30 days in Gotham\n"
   ]
  },
  {
   "cell_type": "code",
   "execution_count": 92,
   "id": "87b33698",
   "metadata": {},
   "outputs": [
    {
     "data": {
      "text/plain": [
       "63.232290227048516"
      ]
     },
     "execution_count": 92,
     "metadata": {},
     "output_type": "execute_result"
    }
   ],
   "source": [
    "Gotham.weekday_pct.mean()"
   ]
  },
  {
   "cell_type": "code",
   "execution_count": 93,
   "id": "0a99178a",
   "metadata": {},
   "outputs": [
    {
     "data": {
      "text/plain": [
       "66.7"
      ]
     },
     "execution_count": 93,
     "metadata": {},
     "output_type": "execute_result"
    }
   ],
   "source": [
    "Gotham.weekday_pct.median()"
   ]
  },
  {
   "cell_type": "code",
   "execution_count": 8,
   "id": "af16e8b8",
   "metadata": {},
   "outputs": [
    {
     "data": {
      "text/plain": [
       "Index(['city', 'trips_in_first_30_days', 'signup_date', 'avg_rating_of_driver',\n",
       "       'avg_surge', 'last_trip_date', 'phone', 'surge_pct',\n",
       "       'ultimate_black_user', 'weekday_pct', 'avg_dist',\n",
       "       'avg_rating_by_driver'],\n",
       "      dtype='object')"
      ]
     },
     "execution_count": 8,
     "metadata": {},
     "output_type": "execute_result"
    }
   ],
   "source": [
    "metro=ud1[ud1.city=='Metropolis']\n",
    "metro.columns"
   ]
  },
  {
   "cell_type": "code",
   "execution_count": 96,
   "id": "d542d7e4",
   "metadata": {},
   "outputs": [
    {
     "data": {
      "text/plain": [
       "60.31893640726764"
      ]
     },
     "execution_count": 96,
     "metadata": {},
     "output_type": "execute_result"
    }
   ],
   "source": [
    "Metro.weekday_pct.mean()"
   ]
  },
  {
   "cell_type": "code",
   "execution_count": 97,
   "id": "0eb90f16",
   "metadata": {},
   "outputs": [
    {
     "data": {
      "text/plain": [
       "66.7"
      ]
     },
     "execution_count": 97,
     "metadata": {},
     "output_type": "execute_result"
    }
   ],
   "source": [
    "Metro.weekday_pct.median()"
   ]
  },
  {
   "cell_type": "code",
   "execution_count": 109,
   "id": "b8bde16e",
   "metadata": {},
   "outputs": [
    {
     "data": {
      "text/plain": [
       "13922"
      ]
     },
     "execution_count": 109,
     "metadata": {},
     "output_type": "execute_result"
    }
   ],
   "source": [
    "more_than50=metro.weekday_pct>50\n",
    "more_than50.sum()"
   ]
  },
  {
   "cell_type": "code",
   "execution_count": 110,
   "id": "3c222421",
   "metadata": {},
   "outputs": [
    {
     "data": {
      "text/plain": [
       "7489"
      ]
     },
     "execution_count": 110,
     "metadata": {},
     "output_type": "execute_result"
    }
   ],
   "source": [
    "less_than50=metro.weekday_pct<50\n",
    "less_than50.sum()"
   ]
  },
  {
   "cell_type": "code",
   "execution_count": 11,
   "id": "9d6ef764",
   "metadata": {},
   "outputs": [],
   "source": [
    "ud1.last_trip_date=pd.to_datetime(ud1.last_trip_date)"
   ]
  },
  {
   "cell_type": "code",
   "execution_count": 117,
   "id": "56b2de99",
   "metadata": {},
   "outputs": [
    {
     "data": {
      "text/plain": [
       "Timestamp('2014-07-01 00:00:00')"
      ]
     },
     "execution_count": 117,
     "metadata": {},
     "output_type": "execute_result"
    }
   ],
   "source": [
    "ud1.last_trip_date.max()"
   ]
  },
  {
   "cell_type": "code",
   "execution_count": 142,
   "id": "cae008d9",
   "metadata": {},
   "outputs": [
    {
     "data": {
      "text/plain": [
       "Timestamp('2014-07-01 00:00:00')"
      ]
     },
     "execution_count": 142,
     "metadata": {},
     "output_type": "execute_result"
    }
   ],
   "source": [
    "today=\"07-01-2014\"\n",
    "today=pd.to_datetime(today)\n",
    "today"
   ]
  },
  {
   "cell_type": "code",
   "execution_count": 138,
   "id": "404d51ed",
   "metadata": {},
   "outputs": [],
   "source": [
    "activity_period=ud1.last_trip_date-ud1.signup_date"
   ]
  },
  {
   "cell_type": "code",
   "execution_count": 52,
   "id": "d26b3645",
   "metadata": {},
   "outputs": [
    {
     "data": {
      "text/plain": [
       "Timedelta('97 days 23:41:06.622841092')"
      ]
     },
     "execution_count": 52,
     "metadata": {},
     "output_type": "execute_result"
    }
   ],
   "source": [
    "activity_period.mean()"
   ]
  },
  {
   "cell_type": "code",
   "execution_count": 53,
   "id": "d35909bd",
   "metadata": {},
   "outputs": [
    {
     "data": {
      "text/plain": [
       "Timedelta('121 days 00:00:00')"
      ]
     },
     "execution_count": 53,
     "metadata": {},
     "output_type": "execute_result"
    }
   ],
   "source": [
    "activity_period.median()"
   ]
  },
  {
   "cell_type": "code",
   "execution_count": 54,
   "id": "d7fea5cc",
   "metadata": {
    "scrolled": true
   },
   "outputs": [
    {
     "data": {
      "text/plain": [
       "count                         33466\n",
       "mean     97 days 23:41:06.622841092\n",
       "std      62 days 12:55:03.138308467\n",
       "min                 0 days 00:00:00\n",
       "25%                34 days 00:00:00\n",
       "50%               121 days 00:00:00\n",
       "75%               153 days 00:00:00\n",
       "max               181 days 00:00:00\n",
       "dtype: object"
      ]
     },
     "execution_count": 54,
     "metadata": {},
     "output_type": "execute_result"
    }
   ],
   "source": [
    "activity_period.describe()"
   ]
  },
  {
   "cell_type": "code",
   "execution_count": 139,
   "id": "bf494c1f",
   "metadata": {},
   "outputs": [
    {
     "data": {
      "text/plain": [
       "0    143 days\n",
       "1    170 days\n",
       "2     47 days\n",
       "3    148 days\n",
       "4      1 days\n",
       "dtype: object"
      ]
     },
     "execution_count": 139,
     "metadata": {},
     "output_type": "execute_result"
    }
   ],
   "source": [
    "activity_period=activity_period.astype('str')\n",
    "activity_period.head()"
   ]
  },
  {
   "cell_type": "code",
   "execution_count": 140,
   "id": "8063b081",
   "metadata": {},
   "outputs": [],
   "source": [
    "activity_period=activity_period.str.split(expand=True)"
   ]
  },
  {
   "cell_type": "code",
   "execution_count": 141,
   "id": "8fee9344",
   "metadata": {},
   "outputs": [],
   "source": [
    "activity_period=activity_period.drop(1,axis=1)"
   ]
  },
  {
   "cell_type": "code",
   "execution_count": 26,
   "id": "642e60f0",
   "metadata": {
    "scrolled": true
   },
   "outputs": [
    {
     "data": {
      "text/plain": [
       "1.0681942063764231"
      ]
     },
     "execution_count": 26,
     "metadata": {},
     "output_type": "execute_result"
    }
   ],
   "source": [
    "metro.avg_surge.mean()"
   ]
  },
  {
   "cell_type": "code",
   "execution_count": 29,
   "id": "3d4f1ae7",
   "metadata": {},
   "outputs": [
    {
     "data": {
      "text/plain": [
       "1.0"
      ]
     },
     "execution_count": 29,
     "metadata": {},
     "output_type": "execute_result"
    }
   ],
   "source": [
    "metro.avg_surge.median()"
   ]
  },
  {
   "cell_type": "markdown",
   "id": "de61af88",
   "metadata": {},
   "source": [
    "to increase the customer base in Gotham it is essential to deliver discounted rates Via an increase of number of drivers, the propsed idea will be that drivers will get full toll reimbursment if they spend an hour in gotham and performed at least one trip in Gotham after the drop off if they were on a trip, or stay in gotham for at least 4 hours if not on trip between cities. \n",
    "\n",
    "the key measure in this expierment is a relief in surge time charges for Gotham's residents. after all to increase the number of customers we need to convince them to use us. \n",
    "so the expectation is to see a drop in surge times and surge time charges. \n",
    "statistical tests will be performed to ensure the observation was correct is a constant monitoring for regular statistical descriptors with an expectation of mean and median drop in surge time charges.\n",
    "the goal to drop avg surge in gotham to 1.03, which should increase Metro's surge to 1.8\n",
    "\n"
   ]
  },
  {
   "cell_type": "code",
   "execution_count": 147,
   "id": "3612c1e9",
   "metadata": {},
   "outputs": [],
   "source": [
    "inactivity_period=today-ud1.last_trip_date\n",
    "inactivity_period=inactivity_period.astype('str')\n",
    "inactivity_period=inactivity_period.str.split(expand=True)\n",
    "inactivity_period=inactivity_period.drop(1,axis=1)\n",
    "inactivity_period=inactivity_period.astype(int)"
   ]
  },
  {
   "cell_type": "code",
   "execution_count": 150,
   "id": "52abc027",
   "metadata": {},
   "outputs": [],
   "source": [
    "df1=pd.merge(ud1,activity_period,left_index=True, right_index=True)\n",
    "df=pd.merge(df1,inactivity_period,left_index=True, right_index=True)"
   ]
  },
  {
   "cell_type": "code",
   "execution_count": 151,
   "id": "fc58cad6",
   "metadata": {},
   "outputs": [
    {
     "data": {
      "text/html": [
       "<div>\n",
       "<style scoped>\n",
       "    .dataframe tbody tr th:only-of-type {\n",
       "        vertical-align: middle;\n",
       "    }\n",
       "\n",
       "    .dataframe tbody tr th {\n",
       "        vertical-align: top;\n",
       "    }\n",
       "\n",
       "    .dataframe thead th {\n",
       "        text-align: right;\n",
       "    }\n",
       "</style>\n",
       "<table border=\"1\" class=\"dataframe\">\n",
       "  <thead>\n",
       "    <tr style=\"text-align: right;\">\n",
       "      <th></th>\n",
       "      <th>city</th>\n",
       "      <th>trips_in_first_30_days</th>\n",
       "      <th>signup_date</th>\n",
       "      <th>avg_rating_of_driver</th>\n",
       "      <th>avg_surge</th>\n",
       "      <th>last_trip_date</th>\n",
       "      <th>phone</th>\n",
       "      <th>surge_pct</th>\n",
       "      <th>ultimate_black_user</th>\n",
       "      <th>weekday_pct</th>\n",
       "      <th>avg_dist</th>\n",
       "      <th>avg_rating_by_driver</th>\n",
       "      <th>0_x</th>\n",
       "      <th>0_y</th>\n",
       "    </tr>\n",
       "  </thead>\n",
       "  <tbody>\n",
       "    <tr>\n",
       "      <th>0</th>\n",
       "      <td>Gotham</td>\n",
       "      <td>4</td>\n",
       "      <td>2014-01-25</td>\n",
       "      <td>4.7</td>\n",
       "      <td>1.1</td>\n",
       "      <td>2014-06-17</td>\n",
       "      <td>iPhone</td>\n",
       "      <td>15.4</td>\n",
       "      <td>True</td>\n",
       "      <td>46.2</td>\n",
       "      <td>3.67</td>\n",
       "      <td>5.0</td>\n",
       "      <td>143</td>\n",
       "      <td>14</td>\n",
       "    </tr>\n",
       "    <tr>\n",
       "      <th>1</th>\n",
       "      <td>Gotham</td>\n",
       "      <td>9</td>\n",
       "      <td>2014-01-10</td>\n",
       "      <td>4.6</td>\n",
       "      <td>1.14</td>\n",
       "      <td>2014-06-29</td>\n",
       "      <td>iPhone</td>\n",
       "      <td>20.0</td>\n",
       "      <td>True</td>\n",
       "      <td>80.0</td>\n",
       "      <td>2.36</td>\n",
       "      <td>4.9</td>\n",
       "      <td>170</td>\n",
       "      <td>2</td>\n",
       "    </tr>\n",
       "    <tr>\n",
       "      <th>2</th>\n",
       "      <td>Metropolis</td>\n",
       "      <td>14</td>\n",
       "      <td>2014-01-27</td>\n",
       "      <td>4.4</td>\n",
       "      <td>1.19</td>\n",
       "      <td>2014-03-15</td>\n",
       "      <td>Android</td>\n",
       "      <td>11.8</td>\n",
       "      <td>False</td>\n",
       "      <td>82.4</td>\n",
       "      <td>3.13</td>\n",
       "      <td>4.9</td>\n",
       "      <td>47</td>\n",
       "      <td>108</td>\n",
       "    </tr>\n",
       "    <tr>\n",
       "      <th>3</th>\n",
       "      <td>Metropolis</td>\n",
       "      <td>2</td>\n",
       "      <td>2014-01-09</td>\n",
       "      <td>3.5</td>\n",
       "      <td>1.0</td>\n",
       "      <td>2014-06-06</td>\n",
       "      <td>iPhone</td>\n",
       "      <td>0.0</td>\n",
       "      <td>True</td>\n",
       "      <td>100.0</td>\n",
       "      <td>10.56</td>\n",
       "      <td>5.0</td>\n",
       "      <td>148</td>\n",
       "      <td>25</td>\n",
       "    </tr>\n",
       "    <tr>\n",
       "      <th>4</th>\n",
       "      <td>Metropolis</td>\n",
       "      <td>2</td>\n",
       "      <td>2014-01-28</td>\n",
       "      <td>5.0</td>\n",
       "      <td>1.0</td>\n",
       "      <td>2014-01-29</td>\n",
       "      <td>iPhone</td>\n",
       "      <td>0.0</td>\n",
       "      <td>False</td>\n",
       "      <td>100.0</td>\n",
       "      <td>2.04</td>\n",
       "      <td>5.0</td>\n",
       "      <td>1</td>\n",
       "      <td>153</td>\n",
       "    </tr>\n",
       "  </tbody>\n",
       "</table>\n",
       "</div>"
      ],
      "text/plain": [
       "         city trips_in_first_30_days signup_date avg_rating_of_driver  \\\n",
       "0      Gotham                      4  2014-01-25                  4.7   \n",
       "1      Gotham                      9  2014-01-10                  4.6   \n",
       "2  Metropolis                     14  2014-01-27                  4.4   \n",
       "3  Metropolis                      2  2014-01-09                  3.5   \n",
       "4  Metropolis                      2  2014-01-28                  5.0   \n",
       "\n",
       "  avg_surge last_trip_date    phone surge_pct ultimate_black_user weekday_pct  \\\n",
       "0       1.1     2014-06-17   iPhone      15.4                True        46.2   \n",
       "1      1.14     2014-06-29   iPhone      20.0                True        80.0   \n",
       "2      1.19     2014-03-15  Android      11.8               False        82.4   \n",
       "3       1.0     2014-06-06   iPhone       0.0                True       100.0   \n",
       "4       1.0     2014-01-29   iPhone       0.0               False       100.0   \n",
       "\n",
       "  avg_dist avg_rating_by_driver  0_x  0_y  \n",
       "0     3.67                  5.0  143   14  \n",
       "1     2.36                  4.9  170    2  \n",
       "2     3.13                  4.9   47  108  \n",
       "3    10.56                  5.0  148   25  \n",
       "4     2.04                  5.0    1  153  "
      ]
     },
     "execution_count": 151,
     "metadata": {},
     "output_type": "execute_result"
    }
   ],
   "source": [
    "df.head()"
   ]
  },
  {
   "cell_type": "code",
   "execution_count": 154,
   "id": "d163f82f",
   "metadata": {},
   "outputs": [],
   "source": [
    "df=df.rename(columns={'0_x':\"activity_length\"})"
   ]
  },
  {
   "cell_type": "code",
   "execution_count": 155,
   "id": "d2ae641f",
   "metadata": {},
   "outputs": [
    {
     "data": {
      "text/html": [
       "<div>\n",
       "<style scoped>\n",
       "    .dataframe tbody tr th:only-of-type {\n",
       "        vertical-align: middle;\n",
       "    }\n",
       "\n",
       "    .dataframe tbody tr th {\n",
       "        vertical-align: top;\n",
       "    }\n",
       "\n",
       "    .dataframe thead th {\n",
       "        text-align: right;\n",
       "    }\n",
       "</style>\n",
       "<table border=\"1\" class=\"dataframe\">\n",
       "  <thead>\n",
       "    <tr style=\"text-align: right;\">\n",
       "      <th></th>\n",
       "      <th>city</th>\n",
       "      <th>trips_in_first_30_days</th>\n",
       "      <th>signup_date</th>\n",
       "      <th>avg_rating_of_driver</th>\n",
       "      <th>avg_surge</th>\n",
       "      <th>last_trip_date</th>\n",
       "      <th>phone</th>\n",
       "      <th>surge_pct</th>\n",
       "      <th>ultimate_black_user</th>\n",
       "      <th>weekday_pct</th>\n",
       "      <th>avg_dist</th>\n",
       "      <th>avg_rating_by_driver</th>\n",
       "      <th>activity_length</th>\n",
       "      <th>last_trip</th>\n",
       "    </tr>\n",
       "  </thead>\n",
       "  <tbody>\n",
       "    <tr>\n",
       "      <th>0</th>\n",
       "      <td>Gotham</td>\n",
       "      <td>4</td>\n",
       "      <td>2014-01-25</td>\n",
       "      <td>4.7</td>\n",
       "      <td>1.1</td>\n",
       "      <td>2014-06-17</td>\n",
       "      <td>iPhone</td>\n",
       "      <td>15.4</td>\n",
       "      <td>True</td>\n",
       "      <td>46.2</td>\n",
       "      <td>3.67</td>\n",
       "      <td>5.0</td>\n",
       "      <td>143</td>\n",
       "      <td>14</td>\n",
       "    </tr>\n",
       "    <tr>\n",
       "      <th>1</th>\n",
       "      <td>Gotham</td>\n",
       "      <td>9</td>\n",
       "      <td>2014-01-10</td>\n",
       "      <td>4.6</td>\n",
       "      <td>1.14</td>\n",
       "      <td>2014-06-29</td>\n",
       "      <td>iPhone</td>\n",
       "      <td>20.0</td>\n",
       "      <td>True</td>\n",
       "      <td>80.0</td>\n",
       "      <td>2.36</td>\n",
       "      <td>4.9</td>\n",
       "      <td>170</td>\n",
       "      <td>2</td>\n",
       "    </tr>\n",
       "    <tr>\n",
       "      <th>2</th>\n",
       "      <td>Metropolis</td>\n",
       "      <td>14</td>\n",
       "      <td>2014-01-27</td>\n",
       "      <td>4.4</td>\n",
       "      <td>1.19</td>\n",
       "      <td>2014-03-15</td>\n",
       "      <td>Android</td>\n",
       "      <td>11.8</td>\n",
       "      <td>False</td>\n",
       "      <td>82.4</td>\n",
       "      <td>3.13</td>\n",
       "      <td>4.9</td>\n",
       "      <td>47</td>\n",
       "      <td>108</td>\n",
       "    </tr>\n",
       "    <tr>\n",
       "      <th>3</th>\n",
       "      <td>Metropolis</td>\n",
       "      <td>2</td>\n",
       "      <td>2014-01-09</td>\n",
       "      <td>3.5</td>\n",
       "      <td>1.0</td>\n",
       "      <td>2014-06-06</td>\n",
       "      <td>iPhone</td>\n",
       "      <td>0.0</td>\n",
       "      <td>True</td>\n",
       "      <td>100.0</td>\n",
       "      <td>10.56</td>\n",
       "      <td>5.0</td>\n",
       "      <td>148</td>\n",
       "      <td>25</td>\n",
       "    </tr>\n",
       "    <tr>\n",
       "      <th>4</th>\n",
       "      <td>Metropolis</td>\n",
       "      <td>2</td>\n",
       "      <td>2014-01-28</td>\n",
       "      <td>5.0</td>\n",
       "      <td>1.0</td>\n",
       "      <td>2014-01-29</td>\n",
       "      <td>iPhone</td>\n",
       "      <td>0.0</td>\n",
       "      <td>False</td>\n",
       "      <td>100.0</td>\n",
       "      <td>2.04</td>\n",
       "      <td>5.0</td>\n",
       "      <td>1</td>\n",
       "      <td>153</td>\n",
       "    </tr>\n",
       "  </tbody>\n",
       "</table>\n",
       "</div>"
      ],
      "text/plain": [
       "         city trips_in_first_30_days signup_date avg_rating_of_driver  \\\n",
       "0      Gotham                      4  2014-01-25                  4.7   \n",
       "1      Gotham                      9  2014-01-10                  4.6   \n",
       "2  Metropolis                     14  2014-01-27                  4.4   \n",
       "3  Metropolis                      2  2014-01-09                  3.5   \n",
       "4  Metropolis                      2  2014-01-28                  5.0   \n",
       "\n",
       "  avg_surge last_trip_date    phone surge_pct ultimate_black_user weekday_pct  \\\n",
       "0       1.1     2014-06-17   iPhone      15.4                True        46.2   \n",
       "1      1.14     2014-06-29   iPhone      20.0                True        80.0   \n",
       "2      1.19     2014-03-15  Android      11.8               False        82.4   \n",
       "3       1.0     2014-06-06   iPhone       0.0                True       100.0   \n",
       "4       1.0     2014-01-29   iPhone       0.0               False       100.0   \n",
       "\n",
       "  avg_dist avg_rating_by_driver activity_length  last_trip  \n",
       "0     3.67                  5.0             143         14  \n",
       "1     2.36                  4.9             170          2  \n",
       "2     3.13                  4.9              47        108  \n",
       "3    10.56                  5.0             148         25  \n",
       "4     2.04                  5.0               1        153  "
      ]
     },
     "execution_count": 155,
     "metadata": {},
     "output_type": "execute_result"
    }
   ],
   "source": [
    "df.head()"
   ]
  },
  {
   "cell_type": "code",
   "execution_count": 156,
   "id": "80ded8d0",
   "metadata": {},
   "outputs": [],
   "source": [
    "df['last_trip']=df.last_trip.astype('int')\n",
    "df['activity_length']=df['activity_length'].astype('int')"
   ]
  },
  {
   "cell_type": "code",
   "execution_count": 157,
   "id": "4718fc55",
   "metadata": {},
   "outputs": [],
   "source": [
    "df['churn']=df.last_trip<150"
   ]
  },
  {
   "cell_type": "code",
   "execution_count": 158,
   "id": "d0daf81d",
   "metadata": {},
   "outputs": [
    {
     "data": {
      "text/plain": [
       "True     26846\n",
       "False     6620\n",
       "Name: churn, dtype: int64"
      ]
     },
     "execution_count": 158,
     "metadata": {},
     "output_type": "execute_result"
    }
   ],
   "source": [
    "df.churn.value_counts()"
   ]
  },
  {
   "cell_type": "code",
   "execution_count": 159,
   "id": "698f63cd",
   "metadata": {},
   "outputs": [
    {
     "data": {
      "text/html": [
       "<div>\n",
       "<style scoped>\n",
       "    .dataframe tbody tr th:only-of-type {\n",
       "        vertical-align: middle;\n",
       "    }\n",
       "\n",
       "    .dataframe tbody tr th {\n",
       "        vertical-align: top;\n",
       "    }\n",
       "\n",
       "    .dataframe thead th {\n",
       "        text-align: right;\n",
       "    }\n",
       "</style>\n",
       "<table border=\"1\" class=\"dataframe\">\n",
       "  <thead>\n",
       "    <tr style=\"text-align: right;\">\n",
       "      <th></th>\n",
       "      <th>city</th>\n",
       "      <th>trips_in_first_30_days</th>\n",
       "      <th>signup_date</th>\n",
       "      <th>avg_rating_of_driver</th>\n",
       "      <th>avg_surge</th>\n",
       "      <th>last_trip_date</th>\n",
       "      <th>phone</th>\n",
       "      <th>surge_pct</th>\n",
       "      <th>ultimate_black_user</th>\n",
       "      <th>weekday_pct</th>\n",
       "      <th>avg_dist</th>\n",
       "      <th>avg_rating_by_driver</th>\n",
       "      <th>activity_length</th>\n",
       "      <th>last_trip</th>\n",
       "      <th>churn</th>\n",
       "    </tr>\n",
       "  </thead>\n",
       "  <tbody>\n",
       "    <tr>\n",
       "      <th>0</th>\n",
       "      <td>Gotham</td>\n",
       "      <td>4</td>\n",
       "      <td>2014-01-25</td>\n",
       "      <td>4.7</td>\n",
       "      <td>1.1</td>\n",
       "      <td>2014-06-17</td>\n",
       "      <td>iPhone</td>\n",
       "      <td>15.4</td>\n",
       "      <td>True</td>\n",
       "      <td>46.2</td>\n",
       "      <td>3.67</td>\n",
       "      <td>5.0</td>\n",
       "      <td>143</td>\n",
       "      <td>14</td>\n",
       "      <td>True</td>\n",
       "    </tr>\n",
       "    <tr>\n",
       "      <th>1</th>\n",
       "      <td>Gotham</td>\n",
       "      <td>9</td>\n",
       "      <td>2014-01-10</td>\n",
       "      <td>4.6</td>\n",
       "      <td>1.14</td>\n",
       "      <td>2014-06-29</td>\n",
       "      <td>iPhone</td>\n",
       "      <td>20.0</td>\n",
       "      <td>True</td>\n",
       "      <td>80.0</td>\n",
       "      <td>2.36</td>\n",
       "      <td>4.9</td>\n",
       "      <td>170</td>\n",
       "      <td>2</td>\n",
       "      <td>True</td>\n",
       "    </tr>\n",
       "    <tr>\n",
       "      <th>2</th>\n",
       "      <td>Metropolis</td>\n",
       "      <td>14</td>\n",
       "      <td>2014-01-27</td>\n",
       "      <td>4.4</td>\n",
       "      <td>1.19</td>\n",
       "      <td>2014-03-15</td>\n",
       "      <td>Android</td>\n",
       "      <td>11.8</td>\n",
       "      <td>False</td>\n",
       "      <td>82.4</td>\n",
       "      <td>3.13</td>\n",
       "      <td>4.9</td>\n",
       "      <td>47</td>\n",
       "      <td>108</td>\n",
       "      <td>True</td>\n",
       "    </tr>\n",
       "    <tr>\n",
       "      <th>3</th>\n",
       "      <td>Metropolis</td>\n",
       "      <td>2</td>\n",
       "      <td>2014-01-09</td>\n",
       "      <td>3.5</td>\n",
       "      <td>1.0</td>\n",
       "      <td>2014-06-06</td>\n",
       "      <td>iPhone</td>\n",
       "      <td>0.0</td>\n",
       "      <td>True</td>\n",
       "      <td>100.0</td>\n",
       "      <td>10.56</td>\n",
       "      <td>5.0</td>\n",
       "      <td>148</td>\n",
       "      <td>25</td>\n",
       "      <td>True</td>\n",
       "    </tr>\n",
       "    <tr>\n",
       "      <th>4</th>\n",
       "      <td>Metropolis</td>\n",
       "      <td>2</td>\n",
       "      <td>2014-01-28</td>\n",
       "      <td>5.0</td>\n",
       "      <td>1.0</td>\n",
       "      <td>2014-01-29</td>\n",
       "      <td>iPhone</td>\n",
       "      <td>0.0</td>\n",
       "      <td>False</td>\n",
       "      <td>100.0</td>\n",
       "      <td>2.04</td>\n",
       "      <td>5.0</td>\n",
       "      <td>1</td>\n",
       "      <td>153</td>\n",
       "      <td>False</td>\n",
       "    </tr>\n",
       "    <tr>\n",
       "      <th>...</th>\n",
       "      <td>...</td>\n",
       "      <td>...</td>\n",
       "      <td>...</td>\n",
       "      <td>...</td>\n",
       "      <td>...</td>\n",
       "      <td>...</td>\n",
       "      <td>...</td>\n",
       "      <td>...</td>\n",
       "      <td>...</td>\n",
       "      <td>...</td>\n",
       "      <td>...</td>\n",
       "      <td>...</td>\n",
       "      <td>...</td>\n",
       "      <td>...</td>\n",
       "      <td>...</td>\n",
       "    </tr>\n",
       "    <tr>\n",
       "      <th>33461</th>\n",
       "      <td>Metropolis</td>\n",
       "      <td>1</td>\n",
       "      <td>2014-01-24</td>\n",
       "      <td>NaN</td>\n",
       "      <td>1.0</td>\n",
       "      <td>2014-01-31</td>\n",
       "      <td>iPhone</td>\n",
       "      <td>0.0</td>\n",
       "      <td>False</td>\n",
       "      <td>100.0</td>\n",
       "      <td>0.0</td>\n",
       "      <td>5.0</td>\n",
       "      <td>7</td>\n",
       "      <td>151</td>\n",
       "      <td>False</td>\n",
       "    </tr>\n",
       "    <tr>\n",
       "      <th>33462</th>\n",
       "      <td>Metropolis</td>\n",
       "      <td>0</td>\n",
       "      <td>2014-01-08</td>\n",
       "      <td>5.0</td>\n",
       "      <td>1.25</td>\n",
       "      <td>2014-06-29</td>\n",
       "      <td>iPhone</td>\n",
       "      <td>100.0</td>\n",
       "      <td>False</td>\n",
       "      <td>0.0</td>\n",
       "      <td>1.06</td>\n",
       "      <td>5.0</td>\n",
       "      <td>172</td>\n",
       "      <td>2</td>\n",
       "      <td>True</td>\n",
       "    </tr>\n",
       "    <tr>\n",
       "      <th>33463</th>\n",
       "      <td>Gotham</td>\n",
       "      <td>1</td>\n",
       "      <td>2014-01-18</td>\n",
       "      <td>1.0</td>\n",
       "      <td>1.0</td>\n",
       "      <td>2014-01-19</td>\n",
       "      <td>iPhone</td>\n",
       "      <td>0.0</td>\n",
       "      <td>False</td>\n",
       "      <td>0.0</td>\n",
       "      <td>7.58</td>\n",
       "      <td>5.0</td>\n",
       "      <td>1</td>\n",
       "      <td>163</td>\n",
       "      <td>False</td>\n",
       "    </tr>\n",
       "    <tr>\n",
       "      <th>33464</th>\n",
       "      <td>Gotham</td>\n",
       "      <td>0</td>\n",
       "      <td>2014-01-25</td>\n",
       "      <td>5.0</td>\n",
       "      <td>1.0</td>\n",
       "      <td>2014-06-05</td>\n",
       "      <td>iPhone</td>\n",
       "      <td>0.0</td>\n",
       "      <td>False</td>\n",
       "      <td>100.0</td>\n",
       "      <td>5.63</td>\n",
       "      <td>4.2</td>\n",
       "      <td>131</td>\n",
       "      <td>26</td>\n",
       "      <td>True</td>\n",
       "    </tr>\n",
       "    <tr>\n",
       "      <th>33465</th>\n",
       "      <td>Metropolis</td>\n",
       "      <td>0</td>\n",
       "      <td>2014-01-31</td>\n",
       "      <td>5.0</td>\n",
       "      <td>1.0</td>\n",
       "      <td>2014-05-22</td>\n",
       "      <td>Android</td>\n",
       "      <td>0.0</td>\n",
       "      <td>True</td>\n",
       "      <td>100.0</td>\n",
       "      <td>3.86</td>\n",
       "      <td>5.0</td>\n",
       "      <td>111</td>\n",
       "      <td>40</td>\n",
       "      <td>True</td>\n",
       "    </tr>\n",
       "  </tbody>\n",
       "</table>\n",
       "<p>33466 rows × 15 columns</p>\n",
       "</div>"
      ],
      "text/plain": [
       "             city trips_in_first_30_days signup_date avg_rating_of_driver  \\\n",
       "0          Gotham                      4  2014-01-25                  4.7   \n",
       "1          Gotham                      9  2014-01-10                  4.6   \n",
       "2      Metropolis                     14  2014-01-27                  4.4   \n",
       "3      Metropolis                      2  2014-01-09                  3.5   \n",
       "4      Metropolis                      2  2014-01-28                  5.0   \n",
       "...           ...                    ...         ...                  ...   \n",
       "33461  Metropolis                      1  2014-01-24                  NaN   \n",
       "33462  Metropolis                      0  2014-01-08                  5.0   \n",
       "33463      Gotham                      1  2014-01-18                  1.0   \n",
       "33464      Gotham                      0  2014-01-25                  5.0   \n",
       "33465  Metropolis                      0  2014-01-31                  5.0   \n",
       "\n",
       "      avg_surge last_trip_date    phone surge_pct ultimate_black_user  \\\n",
       "0           1.1     2014-06-17   iPhone      15.4                True   \n",
       "1          1.14     2014-06-29   iPhone      20.0                True   \n",
       "2          1.19     2014-03-15  Android      11.8               False   \n",
       "3           1.0     2014-06-06   iPhone       0.0                True   \n",
       "4           1.0     2014-01-29   iPhone       0.0               False   \n",
       "...         ...            ...      ...       ...                 ...   \n",
       "33461       1.0     2014-01-31   iPhone       0.0               False   \n",
       "33462      1.25     2014-06-29   iPhone     100.0               False   \n",
       "33463       1.0     2014-01-19   iPhone       0.0               False   \n",
       "33464       1.0     2014-06-05   iPhone       0.0               False   \n",
       "33465       1.0     2014-05-22  Android       0.0                True   \n",
       "\n",
       "      weekday_pct avg_dist avg_rating_by_driver  activity_length  last_trip  \\\n",
       "0            46.2     3.67                  5.0              143         14   \n",
       "1            80.0     2.36                  4.9              170          2   \n",
       "2            82.4     3.13                  4.9               47        108   \n",
       "3           100.0    10.56                  5.0              148         25   \n",
       "4           100.0     2.04                  5.0                1        153   \n",
       "...           ...      ...                  ...              ...        ...   \n",
       "33461       100.0      0.0                  5.0                7        151   \n",
       "33462         0.0     1.06                  5.0              172          2   \n",
       "33463         0.0     7.58                  5.0                1        163   \n",
       "33464       100.0     5.63                  4.2              131         26   \n",
       "33465       100.0     3.86                  5.0              111         40   \n",
       "\n",
       "       churn  \n",
       "0       True  \n",
       "1       True  \n",
       "2       True  \n",
       "3       True  \n",
       "4      False  \n",
       "...      ...  \n",
       "33461  False  \n",
       "33462   True  \n",
       "33463  False  \n",
       "33464   True  \n",
       "33465   True  \n",
       "\n",
       "[33466 rows x 15 columns]"
      ]
     },
     "execution_count": 159,
     "metadata": {},
     "output_type": "execute_result"
    }
   ],
   "source": [
    "df"
   ]
  },
  {
   "cell_type": "markdown",
   "id": "ff7cc6b4",
   "metadata": {},
   "source": [
    "# Modeling "
   ]
  },
  {
   "cell_type": "code",
   "execution_count": 160,
   "id": "2103d650",
   "metadata": {},
   "outputs": [],
   "source": [
    "from sklearn.preprocessing import LabelEncoder\n",
    "labelencoder = LabelEncoder()"
   ]
  },
  {
   "cell_type": "code",
   "execution_count": 161,
   "id": "c2894de6",
   "metadata": {},
   "outputs": [],
   "source": [
    "df['city']=labelencoder.fit_transform(df.city)\n",
    "df['phone']=labelencoder.fit_transform(df.phone)"
   ]
  },
  {
   "cell_type": "code",
   "execution_count": 162,
   "id": "a98b8695",
   "metadata": {},
   "outputs": [],
   "source": [
    "df=df.drop(columns=['last_trip_date','signup_date'])"
   ]
  },
  {
   "cell_type": "code",
   "execution_count": 163,
   "id": "73076a5b",
   "metadata": {},
   "outputs": [
    {
     "data": {
      "text/plain": [
       "4.5875243526619895"
      ]
     },
     "execution_count": 163,
     "metadata": {},
     "output_type": "execute_result"
    }
   ],
   "source": [
    "df.avg_rating_of_driver.mean()"
   ]
  },
  {
   "cell_type": "code",
   "execution_count": 164,
   "id": "dd150fd8",
   "metadata": {},
   "outputs": [
    {
     "data": {
      "text/plain": [
       "<AxesSubplot:>"
      ]
     },
     "execution_count": 164,
     "metadata": {},
     "output_type": "execute_result"
    },
    {
     "data": {
      "image/png": "[encoded data removed]",
      "text/plain": [
       "<Figure size 432x288 with 1 Axes>"
      ]
     },
     "metadata": {
      "needs_background": "light"
     },
     "output_type": "display_data"
    }
   ],
   "source": [
    "df.avg_rating_of_driver.hist()"
   ]
  },
  {
   "cell_type": "code",
   "execution_count": 165,
   "id": "b782a34b",
   "metadata": {},
   "outputs": [
    {
     "data": {
      "text/plain": [
       "4.9"
      ]
     },
     "execution_count": 165,
     "metadata": {},
     "output_type": "execute_result"
    }
   ],
   "source": [
    "df.avg_rating_of_driver.median()"
   ]
  },
  {
   "cell_type": "code",
   "execution_count": 166,
   "id": "41f86ffd",
   "metadata": {},
   "outputs": [],
   "source": [
    "df.avg_rating_of_driver=df.avg_rating_of_driver.fillna(np.median(df.avg_rating_of_driver))"
   ]
  },
  {
   "cell_type": "code",
   "execution_count": 167,
   "id": "0e33544d",
   "metadata": {},
   "outputs": [
    {
     "data": {
      "text/plain": [
       "False    33466\n",
       "Name: avg_rating_of_driver, dtype: int64"
      ]
     },
     "execution_count": 167,
     "metadata": {},
     "output_type": "execute_result"
    }
   ],
   "source": [
    "df.avg_rating_of_driver.isna().value_counts()"
   ]
  },
  {
   "cell_type": "code",
   "execution_count": 168,
   "id": "f04edd24",
   "metadata": {},
   "outputs": [
    {
     "data": {
      "text/plain": [
       "<AxesSubplot:>"
      ]
     },
     "execution_count": 168,
     "metadata": {},
     "output_type": "execute_result"
    },
    {
     "data": {
      "image/png": "[encoded data removed]",
      "text/plain": [
       "<Figure size 432x288 with 1 Axes>"
      ]
     },
     "metadata": {
      "needs_background": "light"
     },
     "output_type": "display_data"
    }
   ],
   "source": [
    "df.avg_rating_by_driver.hist()"
   ]
  },
  {
   "cell_type": "code",
   "execution_count": 169,
   "id": "2be84619",
   "metadata": {},
   "outputs": [],
   "source": [
    "df.avg_rating_by_driver=df.avg_rating_by_driver.fillna(np.median(df.avg_rating_by_driver))"
   ]
  },
  {
   "cell_type": "code",
   "execution_count": 170,
   "id": "bf55bec4",
   "metadata": {},
   "outputs": [
    {
     "data": {
      "text/plain": [
       "1    23413\n",
       "0     9778\n",
       "2      275\n",
       "Name: phone, dtype: int64"
      ]
     },
     "execution_count": 170,
     "metadata": {},
     "output_type": "execute_result"
    }
   ],
   "source": [
    "df.phone.value_counts()"
   ]
  },
  {
   "cell_type": "code",
   "execution_count": 171,
   "id": "6487d25a",
   "metadata": {},
   "outputs": [],
   "source": [
    "from sklearn.preprocessing import StandardScaler\n",
    "sc = StandardScaler()"
   ]
  },
  {
   "cell_type": "code",
   "execution_count": 172,
   "id": "3cdfa919",
   "metadata": {},
   "outputs": [],
   "source": [
    "from sklearn.model_selection import train_test_split\n",
    "X=df.drop('churn',axis=1)\n",
    "y=df.churn\n",
    "X_train, X_test, y_train, y_test = train_test_split(X, y,test_size = 0.2,random_state = 0)"
   ]
  },
  {
   "cell_type": "code",
   "execution_count": 173,
   "id": "f7606d99",
   "metadata": {},
   "outputs": [],
   "source": [
    "X_train=sc.fit_transform(X_train)\n",
    "X_test=sc.fit_transform(X_test)"
   ]
  },
  {
   "cell_type": "code",
   "execution_count": 174,
   "id": "3710ab05",
   "metadata": {},
   "outputs": [],
   "source": [
    "from sklearn.ensemble import RandomForestClassifier as rf\n",
    "from sklearn.metrics import accuracy_score,classification_report"
   ]
  },
  {
   "cell_type": "code",
   "execution_count": 175,
   "id": "966547dd",
   "metadata": {},
   "outputs": [
    {
     "name": "stdout",
     "output_type": "stream",
     "text": [
      "1.0\n",
      "              precision    recall  f1-score   support\n",
      "\n",
      "       False       1.00      1.00      1.00      1333\n",
      "        True       1.00      1.00      1.00      5361\n",
      "\n",
      "    accuracy                           1.00      6694\n",
      "   macro avg       1.00      1.00      1.00      6694\n",
      "weighted avg       1.00      1.00      1.00      6694\n",
      "\n"
     ]
    }
   ],
   "source": [
    "rf=rf()\n",
    "rf.fit(X_train,y_train)\n",
    "ypred=rf.predict(X_test)\n",
    "print(accuracy_score(y_test,ypred))\n",
    "print(classification_report(y_test,ypred))"
   ]
  },
  {
   "cell_type": "markdown",
   "id": "d4fa6198",
   "metadata": {},
   "source": [
    "some measures were taken to balance the data including droping the churn period from 6 months to 5 months , bootstrapping wouldn't have helped nor decreasing data size. "
   ]
  },
  {
   "cell_type": "code",
   "execution_count": 176,
   "id": "b2cd84dc",
   "metadata": {},
   "outputs": [
    {
     "data": {
      "text/plain": [
       "array([1.71541517e-03, 3.92415865e-02, 6.43579256e-04, 2.95068928e-03,\n",
       "       6.30227697e-04, 5.87503671e-03, 2.85841242e-04, 1.55933974e-02,\n",
       "       2.47056315e-03, 1.96753704e-02, 3.18715222e-01, 5.92203071e-01])"
      ]
     },
     "execution_count": 176,
     "metadata": {},
     "output_type": "execute_result"
    }
   ],
   "source": [
    "rf. feature_importances_"
   ]
  },
  {
   "cell_type": "markdown",
   "id": "20565929",
   "metadata": {},
   "source": [
    "the most important feature in predicting chrun is the length on inactivity, and length of active profile"
   ]
  },
  {
   "cell_type": "code",
   "execution_count": null,
   "id": "cd4abf39",
   "metadata": {},
   "outputs": [],
   "source": []
  }
 ],
 "metadata": {
  "kernelspec": {
   "display_name": "Python 3",
   "language": "python",
   "name": "python3"
  },
  "language_info": {
   "codemirror_mode": {
    "name": "ipython",
    "version": 3
   },
   "file_extension": ".py",
   "mimetype": "text/x-python",
   "name": "python",
   "nbconvert_exporter": "python",
   "pygments_lexer": "ipython3",
   "version": "3.8.8"
  }
 },
 "nbformat": 4,
 "nbformat_minor": 5
}
